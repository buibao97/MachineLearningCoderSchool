{
  "nbformat": 4,
  "nbformat_minor": 0,
  "metadata": {
    "colab": {
      "name": "Copy of DAwP_Assignment_2.ipynb",
      "version": "0.3.2",
      "provenance": [],
      "collapsed_sections": []
    },
    "language_info": {
      "codemirror_mode": {
        "name": "ipython",
        "version": 3
      },
      "file_extension": ".py",
      "mimetype": "text/x-python",
      "name": "python",
      "nbconvert_exporter": "python",
      "pygments_lexer": "ipython3",
      "version": "3.6.5"
    },
    "kernelspec": {
      "display_name": "Python 3",
      "language": "python",
      "name": "python3"
    }
  },
  "cells": [
    {
      "cell_type": "markdown",
      "metadata": {
        "id": "kL9VPYin9nOD",
        "colab_type": "text"
      },
      "source": [
        "![](https://i.imgur.com/0AUxkXt.png)\n",
        "\n",
        "# SF Salaries Exercise \n",
        "\n",
        "Explore San Francisco city employee salary data.\n",
        "\n",
        "## Overview\n",
        "\n",
        "One way to understand how a city government works is by looking at who it employs and how its employees are compensated. This data contains the names, job title, and compensation for San Francisco city employees on an annual basis from 2011 to 2014.\n",
        "\n",
        "\n",
        "\n",
        "Just follow along and complete the tasks outlined in bold below. The tasks will get harder and harder as you go along.\n",
        "\n",
        "## Resourses\n",
        "\n",
        "[Pandas API Reference](https://pandas.pydata.org/pandas-docs/stable/api.html)\n",
        "\n",
        "[NumPy Reference](https://docs.scipy.org/doc/numpy/reference/)\n",
        "\n",
        "[Visualization with Seaborn](https://jakevdp.github.io/PythonDataScienceHandbook/04.14-visualization-with-seaborn.html)\n"
      ]
    },
    {
      "cell_type": "markdown",
      "metadata": {
        "id": "ueY1PMBl9nOF",
        "colab_type": "text"
      },
      "source": [
        "**Import libraries**"
      ]
    },
    {
      "cell_type": "code",
      "metadata": {
        "id": "dnwk5LCx9nOG",
        "colab_type": "code",
        "colab": {}
      },
      "source": [
        "from scipy import stats\n",
        "import numpy as np\n",
        "import pandas as pd\n",
        "import seaborn as sns\n",
        "import matplotlib.pyplot as plt"
      ],
      "execution_count": 0,
      "outputs": []
    },
    {
      "cell_type": "markdown",
      "metadata": {
        "id": "jiOt1hEM9nOJ",
        "colab_type": "text"
      },
      "source": [
        "**Read `Salaries.csv` as a dataframe called `sal`.**"
      ]
    },
    {
      "cell_type": "code",
      "metadata": {
        "id": "FtA68BoY9nOJ",
        "colab_type": "code",
        "outputId": "7503f6e4-dda9-42f6-c555-6fc24b4f1f9f",
        "colab": {
          "base_uri": "https://localhost:8080/",
          "height": 1000
        }
      },
      "source": [
        "# link = \"https://s3-ap-southeast-1.amazonaws.com/intro-to-ml-minhdh/Salaries.csv\"\n",
        "sal = pd.read_csv(\"https://s3-ap-southeast-1.amazonaws.com/intro-to-ml-minhdh/Salaries.csv\")\n",
        "#sal = sns.load_dataset('sal')\n",
        "sal"
      ],
      "execution_count": 5,
      "outputs": [
        {
          "output_type": "execute_result",
          "data": {
            "text/html": [
              "<div>\n",
              "<style scoped>\n",
              "    .dataframe tbody tr th:only-of-type {\n",
              "        vertical-align: middle;\n",
              "    }\n",
              "\n",
              "    .dataframe tbody tr th {\n",
              "        vertical-align: top;\n",
              "    }\n",
              "\n",
              "    .dataframe thead th {\n",
              "        text-align: right;\n",
              "    }\n",
              "</style>\n",
              "<table border=\"1\" class=\"dataframe\">\n",
              "  <thead>\n",
              "    <tr style=\"text-align: right;\">\n",
              "      <th></th>\n",
              "      <th>Id</th>\n",
              "      <th>EmployeeName</th>\n",
              "      <th>JobTitle</th>\n",
              "      <th>BasePay</th>\n",
              "      <th>OvertimePay</th>\n",
              "      <th>OtherPay</th>\n",
              "      <th>Benefits</th>\n",
              "      <th>TotalPay</th>\n",
              "      <th>TotalPayBenefits</th>\n",
              "      <th>Year</th>\n",
              "      <th>Notes</th>\n",
              "      <th>Agency</th>\n",
              "      <th>Status</th>\n",
              "    </tr>\n",
              "  </thead>\n",
              "  <tbody>\n",
              "    <tr>\n",
              "      <th>0</th>\n",
              "      <td>1</td>\n",
              "      <td>NATHANIEL FORD</td>\n",
              "      <td>GENERAL MANAGER-METROPOLITAN TRANSIT AUTHORITY</td>\n",
              "      <td>167411.18</td>\n",
              "      <td>0.00</td>\n",
              "      <td>400184.25</td>\n",
              "      <td>NaN</td>\n",
              "      <td>567595.43</td>\n",
              "      <td>567595.43</td>\n",
              "      <td>2011</td>\n",
              "      <td>NaN</td>\n",
              "      <td>San Francisco</td>\n",
              "      <td>NaN</td>\n",
              "    </tr>\n",
              "    <tr>\n",
              "      <th>1</th>\n",
              "      <td>2</td>\n",
              "      <td>GARY JIMENEZ</td>\n",
              "      <td>CAPTAIN III (POLICE DEPARTMENT)</td>\n",
              "      <td>155966.02</td>\n",
              "      <td>245131.88</td>\n",
              "      <td>137811.38</td>\n",
              "      <td>NaN</td>\n",
              "      <td>538909.28</td>\n",
              "      <td>538909.28</td>\n",
              "      <td>2011</td>\n",
              "      <td>NaN</td>\n",
              "      <td>San Francisco</td>\n",
              "      <td>NaN</td>\n",
              "    </tr>\n",
              "    <tr>\n",
              "      <th>2</th>\n",
              "      <td>3</td>\n",
              "      <td>ALBERT PARDINI</td>\n",
              "      <td>CAPTAIN III (POLICE DEPARTMENT)</td>\n",
              "      <td>212739.13</td>\n",
              "      <td>106088.18</td>\n",
              "      <td>16452.60</td>\n",
              "      <td>NaN</td>\n",
              "      <td>335279.91</td>\n",
              "      <td>335279.91</td>\n",
              "      <td>2011</td>\n",
              "      <td>NaN</td>\n",
              "      <td>San Francisco</td>\n",
              "      <td>NaN</td>\n",
              "    </tr>\n",
              "    <tr>\n",
              "      <th>3</th>\n",
              "      <td>4</td>\n",
              "      <td>CHRISTOPHER CHONG</td>\n",
              "      <td>WIRE ROPE CABLE MAINTENANCE MECHANIC</td>\n",
              "      <td>77916.00</td>\n",
              "      <td>56120.71</td>\n",
              "      <td>198306.90</td>\n",
              "      <td>NaN</td>\n",
              "      <td>332343.61</td>\n",
              "      <td>332343.61</td>\n",
              "      <td>2011</td>\n",
              "      <td>NaN</td>\n",
              "      <td>San Francisco</td>\n",
              "      <td>NaN</td>\n",
              "    </tr>\n",
              "    <tr>\n",
              "      <th>4</th>\n",
              "      <td>5</td>\n",
              "      <td>PATRICK GARDNER</td>\n",
              "      <td>DEPUTY CHIEF OF DEPARTMENT,(FIRE DEPARTMENT)</td>\n",
              "      <td>134401.60</td>\n",
              "      <td>9737.00</td>\n",
              "      <td>182234.59</td>\n",
              "      <td>NaN</td>\n",
              "      <td>326373.19</td>\n",
              "      <td>326373.19</td>\n",
              "      <td>2011</td>\n",
              "      <td>NaN</td>\n",
              "      <td>San Francisco</td>\n",
              "      <td>NaN</td>\n",
              "    </tr>\n",
              "    <tr>\n",
              "      <th>5</th>\n",
              "      <td>6</td>\n",
              "      <td>DAVID SULLIVAN</td>\n",
              "      <td>ASSISTANT DEPUTY CHIEF II</td>\n",
              "      <td>118602.00</td>\n",
              "      <td>8601.00</td>\n",
              "      <td>189082.74</td>\n",
              "      <td>NaN</td>\n",
              "      <td>316285.74</td>\n",
              "      <td>316285.74</td>\n",
              "      <td>2011</td>\n",
              "      <td>NaN</td>\n",
              "      <td>San Francisco</td>\n",
              "      <td>NaN</td>\n",
              "    </tr>\n",
              "    <tr>\n",
              "      <th>6</th>\n",
              "      <td>7</td>\n",
              "      <td>ALSON LEE</td>\n",
              "      <td>BATTALION CHIEF, (FIRE DEPARTMENT)</td>\n",
              "      <td>92492.01</td>\n",
              "      <td>89062.90</td>\n",
              "      <td>134426.14</td>\n",
              "      <td>NaN</td>\n",
              "      <td>315981.05</td>\n",
              "      <td>315981.05</td>\n",
              "      <td>2011</td>\n",
              "      <td>NaN</td>\n",
              "      <td>San Francisco</td>\n",
              "      <td>NaN</td>\n",
              "    </tr>\n",
              "    <tr>\n",
              "      <th>7</th>\n",
              "      <td>8</td>\n",
              "      <td>DAVID KUSHNER</td>\n",
              "      <td>DEPUTY DIRECTOR OF INVESTMENTS</td>\n",
              "      <td>256576.96</td>\n",
              "      <td>0.00</td>\n",
              "      <td>51322.50</td>\n",
              "      <td>NaN</td>\n",
              "      <td>307899.46</td>\n",
              "      <td>307899.46</td>\n",
              "      <td>2011</td>\n",
              "      <td>NaN</td>\n",
              "      <td>San Francisco</td>\n",
              "      <td>NaN</td>\n",
              "    </tr>\n",
              "    <tr>\n",
              "      <th>8</th>\n",
              "      <td>9</td>\n",
              "      <td>MICHAEL MORRIS</td>\n",
              "      <td>BATTALION CHIEF, (FIRE DEPARTMENT)</td>\n",
              "      <td>176932.64</td>\n",
              "      <td>86362.68</td>\n",
              "      <td>40132.23</td>\n",
              "      <td>NaN</td>\n",
              "      <td>303427.55</td>\n",
              "      <td>303427.55</td>\n",
              "      <td>2011</td>\n",
              "      <td>NaN</td>\n",
              "      <td>San Francisco</td>\n",
              "      <td>NaN</td>\n",
              "    </tr>\n",
              "    <tr>\n",
              "      <th>9</th>\n",
              "      <td>10</td>\n",
              "      <td>JOANNE HAYES-WHITE</td>\n",
              "      <td>CHIEF OF DEPARTMENT, (FIRE DEPARTMENT)</td>\n",
              "      <td>285262.00</td>\n",
              "      <td>0.00</td>\n",
              "      <td>17115.73</td>\n",
              "      <td>NaN</td>\n",
              "      <td>302377.73</td>\n",
              "      <td>302377.73</td>\n",
              "      <td>2011</td>\n",
              "      <td>NaN</td>\n",
              "      <td>San Francisco</td>\n",
              "      <td>NaN</td>\n",
              "    </tr>\n",
              "    <tr>\n",
              "      <th>10</th>\n",
              "      <td>11</td>\n",
              "      <td>ARTHUR KENNEY</td>\n",
              "      <td>ASSISTANT CHIEF OF DEPARTMENT, (FIRE DEPARTMENT)</td>\n",
              "      <td>194999.39</td>\n",
              "      <td>71344.88</td>\n",
              "      <td>33149.90</td>\n",
              "      <td>NaN</td>\n",
              "      <td>299494.17</td>\n",
              "      <td>299494.17</td>\n",
              "      <td>2011</td>\n",
              "      <td>NaN</td>\n",
              "      <td>San Francisco</td>\n",
              "      <td>NaN</td>\n",
              "    </tr>\n",
              "    <tr>\n",
              "      <th>11</th>\n",
              "      <td>12</td>\n",
              "      <td>PATRICIA JACKSON</td>\n",
              "      <td>CAPTAIN III (POLICE DEPARTMENT)</td>\n",
              "      <td>99722.00</td>\n",
              "      <td>87082.62</td>\n",
              "      <td>110804.30</td>\n",
              "      <td>NaN</td>\n",
              "      <td>297608.92</td>\n",
              "      <td>297608.92</td>\n",
              "      <td>2011</td>\n",
              "      <td>NaN</td>\n",
              "      <td>San Francisco</td>\n",
              "      <td>NaN</td>\n",
              "    </tr>\n",
              "    <tr>\n",
              "      <th>12</th>\n",
              "      <td>13</td>\n",
              "      <td>EDWARD HARRINGTON</td>\n",
              "      <td>EXECUTIVE CONTRACT EMPLOYEE</td>\n",
              "      <td>294580.02</td>\n",
              "      <td>0.00</td>\n",
              "      <td>0.00</td>\n",
              "      <td>NaN</td>\n",
              "      <td>294580.02</td>\n",
              "      <td>294580.02</td>\n",
              "      <td>2011</td>\n",
              "      <td>NaN</td>\n",
              "      <td>San Francisco</td>\n",
              "      <td>NaN</td>\n",
              "    </tr>\n",
              "    <tr>\n",
              "      <th>13</th>\n",
              "      <td>14</td>\n",
              "      <td>JOHN MARTIN</td>\n",
              "      <td>DEPARTMENT HEAD V</td>\n",
              "      <td>271329.03</td>\n",
              "      <td>0.00</td>\n",
              "      <td>21342.59</td>\n",
              "      <td>NaN</td>\n",
              "      <td>292671.62</td>\n",
              "      <td>292671.62</td>\n",
              "      <td>2011</td>\n",
              "      <td>NaN</td>\n",
              "      <td>San Francisco</td>\n",
              "      <td>NaN</td>\n",
              "    </tr>\n",
              "    <tr>\n",
              "      <th>14</th>\n",
              "      <td>15</td>\n",
              "      <td>DAVID FRANKLIN</td>\n",
              "      <td>BATTALION CHIEF, (FIRE DEPARTMENT)</td>\n",
              "      <td>174872.64</td>\n",
              "      <td>74050.30</td>\n",
              "      <td>37424.11</td>\n",
              "      <td>NaN</td>\n",
              "      <td>286347.05</td>\n",
              "      <td>286347.05</td>\n",
              "      <td>2011</td>\n",
              "      <td>NaN</td>\n",
              "      <td>San Francisco</td>\n",
              "      <td>NaN</td>\n",
              "    </tr>\n",
              "    <tr>\n",
              "      <th>15</th>\n",
              "      <td>16</td>\n",
              "      <td>RICHARD CORRIEA</td>\n",
              "      <td>COMMANDER III, (POLICE DEPARTMENT)</td>\n",
              "      <td>198778.01</td>\n",
              "      <td>73478.20</td>\n",
              "      <td>13957.65</td>\n",
              "      <td>NaN</td>\n",
              "      <td>286213.86</td>\n",
              "      <td>286213.86</td>\n",
              "      <td>2011</td>\n",
              "      <td>NaN</td>\n",
              "      <td>San Francisco</td>\n",
              "      <td>NaN</td>\n",
              "    </tr>\n",
              "    <tr>\n",
              "      <th>16</th>\n",
              "      <td>17</td>\n",
              "      <td>AMY HART</td>\n",
              "      <td>DEPARTMENT HEAD V</td>\n",
              "      <td>268604.57</td>\n",
              "      <td>0.00</td>\n",
              "      <td>16115.86</td>\n",
              "      <td>NaN</td>\n",
              "      <td>284720.43</td>\n",
              "      <td>284720.43</td>\n",
              "      <td>2011</td>\n",
              "      <td>NaN</td>\n",
              "      <td>San Francisco</td>\n",
              "      <td>NaN</td>\n",
              "    </tr>\n",
              "    <tr>\n",
              "      <th>17</th>\n",
              "      <td>18</td>\n",
              "      <td>SEBASTIAN WONG</td>\n",
              "      <td>CAPTAIN, EMERGENCYCY MEDICAL SERVICES</td>\n",
              "      <td>140546.87</td>\n",
              "      <td>119397.26</td>\n",
              "      <td>18625.08</td>\n",
              "      <td>NaN</td>\n",
              "      <td>278569.21</td>\n",
              "      <td>278569.21</td>\n",
              "      <td>2011</td>\n",
              "      <td>NaN</td>\n",
              "      <td>San Francisco</td>\n",
              "      <td>NaN</td>\n",
              "    </tr>\n",
              "    <tr>\n",
              "      <th>18</th>\n",
              "      <td>19</td>\n",
              "      <td>MARTY ROSS</td>\n",
              "      <td>BATTALION CHIEF, (FIRE DEPARTMENT)</td>\n",
              "      <td>168692.63</td>\n",
              "      <td>69626.12</td>\n",
              "      <td>38115.47</td>\n",
              "      <td>NaN</td>\n",
              "      <td>276434.22</td>\n",
              "      <td>276434.22</td>\n",
              "      <td>2011</td>\n",
              "      <td>NaN</td>\n",
              "      <td>San Francisco</td>\n",
              "      <td>NaN</td>\n",
              "    </tr>\n",
              "    <tr>\n",
              "      <th>19</th>\n",
              "      <td>20</td>\n",
              "      <td>ELLEN MOFFATT</td>\n",
              "      <td>ASSISTANT MEDICAL EXAMINER</td>\n",
              "      <td>257510.59</td>\n",
              "      <td>880.16</td>\n",
              "      <td>16159.50</td>\n",
              "      <td>NaN</td>\n",
              "      <td>274550.25</td>\n",
              "      <td>274550.25</td>\n",
              "      <td>2011</td>\n",
              "      <td>NaN</td>\n",
              "      <td>San Francisco</td>\n",
              "      <td>NaN</td>\n",
              "    </tr>\n",
              "    <tr>\n",
              "      <th>20</th>\n",
              "      <td>21</td>\n",
              "      <td>VENUS AZAR</td>\n",
              "      <td>ASSISTANT MEDICAL EXAMINER</td>\n",
              "      <td>257510.48</td>\n",
              "      <td>0.00</td>\n",
              "      <td>16679.79</td>\n",
              "      <td>NaN</td>\n",
              "      <td>274190.27</td>\n",
              "      <td>274190.27</td>\n",
              "      <td>2011</td>\n",
              "      <td>NaN</td>\n",
              "      <td>San Francisco</td>\n",
              "      <td>NaN</td>\n",
              "    </tr>\n",
              "    <tr>\n",
              "      <th>21</th>\n",
              "      <td>22</td>\n",
              "      <td>JUDY MELINEK</td>\n",
              "      <td>ASSISTANT MEDICAL EXAMINER</td>\n",
              "      <td>257510.44</td>\n",
              "      <td>377.21</td>\n",
              "      <td>15883.56</td>\n",
              "      <td>NaN</td>\n",
              "      <td>273771.21</td>\n",
              "      <td>273771.21</td>\n",
              "      <td>2011</td>\n",
              "      <td>NaN</td>\n",
              "      <td>San Francisco</td>\n",
              "      <td>NaN</td>\n",
              "    </tr>\n",
              "    <tr>\n",
              "      <th>22</th>\n",
              "      <td>23</td>\n",
              "      <td>GEORGE GARCIA</td>\n",
              "      <td>CAPTAIN, FIRE SUPPRESSION</td>\n",
              "      <td>140546.88</td>\n",
              "      <td>93200.58</td>\n",
              "      <td>39955.25</td>\n",
              "      <td>NaN</td>\n",
              "      <td>273702.71</td>\n",
              "      <td>273702.71</td>\n",
              "      <td>2011</td>\n",
              "      <td>NaN</td>\n",
              "      <td>San Francisco</td>\n",
              "      <td>NaN</td>\n",
              "    </tr>\n",
              "    <tr>\n",
              "      <th>23</th>\n",
              "      <td>24</td>\n",
              "      <td>VICTOR WYRSCH</td>\n",
              "      <td>BATTALION CHIEF, (FIRE DEPARTMENT)</td>\n",
              "      <td>168692.63</td>\n",
              "      <td>77896.14</td>\n",
              "      <td>24083.86</td>\n",
              "      <td>NaN</td>\n",
              "      <td>270672.63</td>\n",
              "      <td>270672.63</td>\n",
              "      <td>2011</td>\n",
              "      <td>NaN</td>\n",
              "      <td>San Francisco</td>\n",
              "      <td>NaN</td>\n",
              "    </tr>\n",
              "    <tr>\n",
              "      <th>24</th>\n",
              "      <td>25</td>\n",
              "      <td>JOSEPH DRISCOLL</td>\n",
              "      <td>CAPTAIN, FIRE SUPPRESSION</td>\n",
              "      <td>140546.86</td>\n",
              "      <td>97868.77</td>\n",
              "      <td>31909.28</td>\n",
              "      <td>NaN</td>\n",
              "      <td>270324.91</td>\n",
              "      <td>270324.91</td>\n",
              "      <td>2011</td>\n",
              "      <td>NaN</td>\n",
              "      <td>San Francisco</td>\n",
              "      <td>NaN</td>\n",
              "    </tr>\n",
              "    <tr>\n",
              "      <th>25</th>\n",
              "      <td>26</td>\n",
              "      <td>GREGORY SUHR</td>\n",
              "      <td>CHIEF OF POLICE</td>\n",
              "      <td>256470.41</td>\n",
              "      <td>0.00</td>\n",
              "      <td>11522.18</td>\n",
              "      <td>NaN</td>\n",
              "      <td>267992.59</td>\n",
              "      <td>267992.59</td>\n",
              "      <td>2011</td>\n",
              "      <td>NaN</td>\n",
              "      <td>San Francisco</td>\n",
              "      <td>NaN</td>\n",
              "    </tr>\n",
              "    <tr>\n",
              "      <th>26</th>\n",
              "      <td>27</td>\n",
              "      <td>JOHN HANLEY</td>\n",
              "      <td>CAPTAIN, FIRE SUPPRESSION</td>\n",
              "      <td>92080.80</td>\n",
              "      <td>40008.00</td>\n",
              "      <td>133695.76</td>\n",
              "      <td>NaN</td>\n",
              "      <td>265784.56</td>\n",
              "      <td>265784.56</td>\n",
              "      <td>2011</td>\n",
              "      <td>NaN</td>\n",
              "      <td>San Francisco</td>\n",
              "      <td>NaN</td>\n",
              "    </tr>\n",
              "    <tr>\n",
              "      <th>27</th>\n",
              "      <td>28</td>\n",
              "      <td>RAYMOND GUZMAN</td>\n",
              "      <td>BATTALION CHIEF, (FIRE DEPARTMENT)</td>\n",
              "      <td>168692.59</td>\n",
              "      <td>80706.88</td>\n",
              "      <td>16063.99</td>\n",
              "      <td>NaN</td>\n",
              "      <td>265463.46</td>\n",
              "      <td>265463.46</td>\n",
              "      <td>2011</td>\n",
              "      <td>NaN</td>\n",
              "      <td>San Francisco</td>\n",
              "      <td>NaN</td>\n",
              "    </tr>\n",
              "    <tr>\n",
              "      <th>28</th>\n",
              "      <td>29</td>\n",
              "      <td>DENISE SCHMITT</td>\n",
              "      <td>DEPUTY CHIEF III (POLICE DEPARTMENT)</td>\n",
              "      <td>261717.60</td>\n",
              "      <td>0.00</td>\n",
              "      <td>2357.00</td>\n",
              "      <td>NaN</td>\n",
              "      <td>264074.60</td>\n",
              "      <td>264074.60</td>\n",
              "      <td>2011</td>\n",
              "      <td>NaN</td>\n",
              "      <td>San Francisco</td>\n",
              "      <td>NaN</td>\n",
              "    </tr>\n",
              "    <tr>\n",
              "      <th>29</th>\n",
              "      <td>30</td>\n",
              "      <td>MONICA FIELDS</td>\n",
              "      <td>DEPUTY CHIEF OF DEPARTMENT,(FIRE DEPARTMENT)</td>\n",
              "      <td>246225.60</td>\n",
              "      <td>0.00</td>\n",
              "      <td>15140.54</td>\n",
              "      <td>NaN</td>\n",
              "      <td>261366.14</td>\n",
              "      <td>261366.14</td>\n",
              "      <td>2011</td>\n",
              "      <td>NaN</td>\n",
              "      <td>San Francisco</td>\n",
              "      <td>NaN</td>\n",
              "    </tr>\n",
              "    <tr>\n",
              "      <th>...</th>\n",
              "      <td>...</td>\n",
              "      <td>...</td>\n",
              "      <td>...</td>\n",
              "      <td>...</td>\n",
              "      <td>...</td>\n",
              "      <td>...</td>\n",
              "      <td>...</td>\n",
              "      <td>...</td>\n",
              "      <td>...</td>\n",
              "      <td>...</td>\n",
              "      <td>...</td>\n",
              "      <td>...</td>\n",
              "      <td>...</td>\n",
              "    </tr>\n",
              "    <tr>\n",
              "      <th>148624</th>\n",
              "      <td>148625</td>\n",
              "      <td>Lorraine Rosenthal</td>\n",
              "      <td>Senior Clerk</td>\n",
              "      <td>0.00</td>\n",
              "      <td>0.00</td>\n",
              "      <td>12.89</td>\n",
              "      <td>0.00</td>\n",
              "      <td>12.89</td>\n",
              "      <td>12.89</td>\n",
              "      <td>2014</td>\n",
              "      <td>NaN</td>\n",
              "      <td>San Francisco</td>\n",
              "      <td>NaN</td>\n",
              "    </tr>\n",
              "    <tr>\n",
              "      <th>148625</th>\n",
              "      <td>148626</td>\n",
              "      <td>Renato C Gurion</td>\n",
              "      <td>Registered Nurse</td>\n",
              "      <td>0.00</td>\n",
              "      <td>0.00</td>\n",
              "      <td>6.00</td>\n",
              "      <td>1.24</td>\n",
              "      <td>6.00</td>\n",
              "      <td>7.24</td>\n",
              "      <td>2014</td>\n",
              "      <td>NaN</td>\n",
              "      <td>San Francisco</td>\n",
              "      <td>NaN</td>\n",
              "    </tr>\n",
              "    <tr>\n",
              "      <th>148626</th>\n",
              "      <td>148627</td>\n",
              "      <td>Paulet Gaines</td>\n",
              "      <td>Account Clerk</td>\n",
              "      <td>0.00</td>\n",
              "      <td>0.00</td>\n",
              "      <td>0.00</td>\n",
              "      <td>0.00</td>\n",
              "      <td>0.00</td>\n",
              "      <td>0.00</td>\n",
              "      <td>2014</td>\n",
              "      <td>NaN</td>\n",
              "      <td>San Francisco</td>\n",
              "      <td>NaN</td>\n",
              "    </tr>\n",
              "    <tr>\n",
              "      <th>148627</th>\n",
              "      <td>148628</td>\n",
              "      <td>Brett A Lundberg</td>\n",
              "      <td>General Laborer</td>\n",
              "      <td>0.00</td>\n",
              "      <td>0.00</td>\n",
              "      <td>0.00</td>\n",
              "      <td>0.00</td>\n",
              "      <td>0.00</td>\n",
              "      <td>0.00</td>\n",
              "      <td>2014</td>\n",
              "      <td>NaN</td>\n",
              "      <td>San Francisco</td>\n",
              "      <td>NaN</td>\n",
              "    </tr>\n",
              "    <tr>\n",
              "      <th>148628</th>\n",
              "      <td>148629</td>\n",
              "      <td>Mark W Mcclure</td>\n",
              "      <td>General Laborer</td>\n",
              "      <td>0.00</td>\n",
              "      <td>0.00</td>\n",
              "      <td>0.00</td>\n",
              "      <td>0.00</td>\n",
              "      <td>0.00</td>\n",
              "      <td>0.00</td>\n",
              "      <td>2014</td>\n",
              "      <td>NaN</td>\n",
              "      <td>San Francisco</td>\n",
              "      <td>NaN</td>\n",
              "    </tr>\n",
              "    <tr>\n",
              "      <th>148629</th>\n",
              "      <td>148630</td>\n",
              "      <td>Elizabeth Iniguez</td>\n",
              "      <td>Transcriber Typist</td>\n",
              "      <td>0.00</td>\n",
              "      <td>0.00</td>\n",
              "      <td>0.00</td>\n",
              "      <td>0.00</td>\n",
              "      <td>0.00</td>\n",
              "      <td>0.00</td>\n",
              "      <td>2014</td>\n",
              "      <td>NaN</td>\n",
              "      <td>San Francisco</td>\n",
              "      <td>NaN</td>\n",
              "    </tr>\n",
              "    <tr>\n",
              "      <th>148630</th>\n",
              "      <td>148631</td>\n",
              "      <td>Randy J Keys</td>\n",
              "      <td>Carpenter</td>\n",
              "      <td>0.00</td>\n",
              "      <td>0.00</td>\n",
              "      <td>0.00</td>\n",
              "      <td>0.00</td>\n",
              "      <td>0.00</td>\n",
              "      <td>0.00</td>\n",
              "      <td>2014</td>\n",
              "      <td>NaN</td>\n",
              "      <td>San Francisco</td>\n",
              "      <td>NaN</td>\n",
              "    </tr>\n",
              "    <tr>\n",
              "      <th>148631</th>\n",
              "      <td>148632</td>\n",
              "      <td>Andre M Johnson</td>\n",
              "      <td>Communications Dispatcher 1</td>\n",
              "      <td>0.00</td>\n",
              "      <td>0.00</td>\n",
              "      <td>0.00</td>\n",
              "      <td>0.00</td>\n",
              "      <td>0.00</td>\n",
              "      <td>0.00</td>\n",
              "      <td>2014</td>\n",
              "      <td>NaN</td>\n",
              "      <td>San Francisco</td>\n",
              "      <td>NaN</td>\n",
              "    </tr>\n",
              "    <tr>\n",
              "      <th>148632</th>\n",
              "      <td>148633</td>\n",
              "      <td>Sharon D Owens-Webster</td>\n",
              "      <td>Protective Services Worker</td>\n",
              "      <td>0.00</td>\n",
              "      <td>0.00</td>\n",
              "      <td>0.00</td>\n",
              "      <td>0.00</td>\n",
              "      <td>0.00</td>\n",
              "      <td>0.00</td>\n",
              "      <td>2014</td>\n",
              "      <td>NaN</td>\n",
              "      <td>San Francisco</td>\n",
              "      <td>NaN</td>\n",
              "    </tr>\n",
              "    <tr>\n",
              "      <th>148633</th>\n",
              "      <td>148634</td>\n",
              "      <td>Edward Ferdinand</td>\n",
              "      <td>General Laborer</td>\n",
              "      <td>0.00</td>\n",
              "      <td>0.00</td>\n",
              "      <td>0.00</td>\n",
              "      <td>0.00</td>\n",
              "      <td>0.00</td>\n",
              "      <td>0.00</td>\n",
              "      <td>2014</td>\n",
              "      <td>NaN</td>\n",
              "      <td>San Francisco</td>\n",
              "      <td>NaN</td>\n",
              "    </tr>\n",
              "    <tr>\n",
              "      <th>148634</th>\n",
              "      <td>148635</td>\n",
              "      <td>David M Turner</td>\n",
              "      <td>Transit Car Cleaner</td>\n",
              "      <td>0.00</td>\n",
              "      <td>0.00</td>\n",
              "      <td>0.00</td>\n",
              "      <td>0.00</td>\n",
              "      <td>0.00</td>\n",
              "      <td>0.00</td>\n",
              "      <td>2014</td>\n",
              "      <td>NaN</td>\n",
              "      <td>San Francisco</td>\n",
              "      <td>NaN</td>\n",
              "    </tr>\n",
              "    <tr>\n",
              "      <th>148635</th>\n",
              "      <td>148636</td>\n",
              "      <td>James S Kibblewhite</td>\n",
              "      <td>General Laborer</td>\n",
              "      <td>0.00</td>\n",
              "      <td>0.00</td>\n",
              "      <td>0.00</td>\n",
              "      <td>0.00</td>\n",
              "      <td>0.00</td>\n",
              "      <td>0.00</td>\n",
              "      <td>2014</td>\n",
              "      <td>NaN</td>\n",
              "      <td>San Francisco</td>\n",
              "      <td>NaN</td>\n",
              "    </tr>\n",
              "    <tr>\n",
              "      <th>148636</th>\n",
              "      <td>148637</td>\n",
              "      <td>Andrew J Enzi</td>\n",
              "      <td>Arborist Technician</td>\n",
              "      <td>0.00</td>\n",
              "      <td>0.00</td>\n",
              "      <td>0.00</td>\n",
              "      <td>0.00</td>\n",
              "      <td>0.00</td>\n",
              "      <td>0.00</td>\n",
              "      <td>2014</td>\n",
              "      <td>NaN</td>\n",
              "      <td>San Francisco</td>\n",
              "      <td>NaN</td>\n",
              "    </tr>\n",
              "    <tr>\n",
              "      <th>148637</th>\n",
              "      <td>148638</td>\n",
              "      <td>Kadeshra D Green</td>\n",
              "      <td>Transit Fare Inspector</td>\n",
              "      <td>0.00</td>\n",
              "      <td>0.00</td>\n",
              "      <td>0.00</td>\n",
              "      <td>0.00</td>\n",
              "      <td>0.00</td>\n",
              "      <td>0.00</td>\n",
              "      <td>2014</td>\n",
              "      <td>NaN</td>\n",
              "      <td>San Francisco</td>\n",
              "      <td>NaN</td>\n",
              "    </tr>\n",
              "    <tr>\n",
              "      <th>148638</th>\n",
              "      <td>148639</td>\n",
              "      <td>Lennard B Hutchinson</td>\n",
              "      <td>Electrician</td>\n",
              "      <td>0.00</td>\n",
              "      <td>0.00</td>\n",
              "      <td>0.00</td>\n",
              "      <td>0.00</td>\n",
              "      <td>0.00</td>\n",
              "      <td>0.00</td>\n",
              "      <td>2014</td>\n",
              "      <td>NaN</td>\n",
              "      <td>San Francisco</td>\n",
              "      <td>NaN</td>\n",
              "    </tr>\n",
              "    <tr>\n",
              "      <th>148639</th>\n",
              "      <td>148640</td>\n",
              "      <td>Richard A Talbert</td>\n",
              "      <td>Custodian</td>\n",
              "      <td>0.00</td>\n",
              "      <td>0.00</td>\n",
              "      <td>0.00</td>\n",
              "      <td>0.00</td>\n",
              "      <td>0.00</td>\n",
              "      <td>0.00</td>\n",
              "      <td>2014</td>\n",
              "      <td>NaN</td>\n",
              "      <td>San Francisco</td>\n",
              "      <td>NaN</td>\n",
              "    </tr>\n",
              "    <tr>\n",
              "      <th>148640</th>\n",
              "      <td>148641</td>\n",
              "      <td>Charlene D Mccully</td>\n",
              "      <td>Parking Control Officer</td>\n",
              "      <td>0.00</td>\n",
              "      <td>0.00</td>\n",
              "      <td>0.00</td>\n",
              "      <td>0.00</td>\n",
              "      <td>0.00</td>\n",
              "      <td>0.00</td>\n",
              "      <td>2014</td>\n",
              "      <td>NaN</td>\n",
              "      <td>San Francisco</td>\n",
              "      <td>NaN</td>\n",
              "    </tr>\n",
              "    <tr>\n",
              "      <th>148641</th>\n",
              "      <td>148642</td>\n",
              "      <td>Raphael Marquis Goins</td>\n",
              "      <td>Museum Guard</td>\n",
              "      <td>0.00</td>\n",
              "      <td>0.00</td>\n",
              "      <td>0.00</td>\n",
              "      <td>0.00</td>\n",
              "      <td>0.00</td>\n",
              "      <td>0.00</td>\n",
              "      <td>2014</td>\n",
              "      <td>NaN</td>\n",
              "      <td>San Francisco</td>\n",
              "      <td>NaN</td>\n",
              "    </tr>\n",
              "    <tr>\n",
              "      <th>148642</th>\n",
              "      <td>148643</td>\n",
              "      <td>Dominic C Marquez</td>\n",
              "      <td>Sign Worker</td>\n",
              "      <td>0.00</td>\n",
              "      <td>0.00</td>\n",
              "      <td>0.00</td>\n",
              "      <td>0.00</td>\n",
              "      <td>0.00</td>\n",
              "      <td>0.00</td>\n",
              "      <td>2014</td>\n",
              "      <td>NaN</td>\n",
              "      <td>San Francisco</td>\n",
              "      <td>NaN</td>\n",
              "    </tr>\n",
              "    <tr>\n",
              "      <th>148643</th>\n",
              "      <td>148644</td>\n",
              "      <td>Kim Brewer</td>\n",
              "      <td>Parking Control Officer</td>\n",
              "      <td>0.00</td>\n",
              "      <td>0.00</td>\n",
              "      <td>0.00</td>\n",
              "      <td>0.00</td>\n",
              "      <td>0.00</td>\n",
              "      <td>0.00</td>\n",
              "      <td>2014</td>\n",
              "      <td>NaN</td>\n",
              "      <td>San Francisco</td>\n",
              "      <td>NaN</td>\n",
              "    </tr>\n",
              "    <tr>\n",
              "      <th>148644</th>\n",
              "      <td>148645</td>\n",
              "      <td>Randy D Winn</td>\n",
              "      <td>Stationary Eng, Sewage Plant</td>\n",
              "      <td>0.00</td>\n",
              "      <td>0.00</td>\n",
              "      <td>0.00</td>\n",
              "      <td>0.00</td>\n",
              "      <td>0.00</td>\n",
              "      <td>0.00</td>\n",
              "      <td>2014</td>\n",
              "      <td>NaN</td>\n",
              "      <td>San Francisco</td>\n",
              "      <td>NaN</td>\n",
              "    </tr>\n",
              "    <tr>\n",
              "      <th>148645</th>\n",
              "      <td>148646</td>\n",
              "      <td>Carolyn A Wilson</td>\n",
              "      <td>Human Services Technician</td>\n",
              "      <td>0.00</td>\n",
              "      <td>0.00</td>\n",
              "      <td>0.00</td>\n",
              "      <td>0.00</td>\n",
              "      <td>0.00</td>\n",
              "      <td>0.00</td>\n",
              "      <td>2014</td>\n",
              "      <td>NaN</td>\n",
              "      <td>San Francisco</td>\n",
              "      <td>NaN</td>\n",
              "    </tr>\n",
              "    <tr>\n",
              "      <th>148646</th>\n",
              "      <td>148647</td>\n",
              "      <td>Not provided</td>\n",
              "      <td>Not provided</td>\n",
              "      <td>NaN</td>\n",
              "      <td>NaN</td>\n",
              "      <td>NaN</td>\n",
              "      <td>NaN</td>\n",
              "      <td>0.00</td>\n",
              "      <td>0.00</td>\n",
              "      <td>2014</td>\n",
              "      <td>NaN</td>\n",
              "      <td>San Francisco</td>\n",
              "      <td>NaN</td>\n",
              "    </tr>\n",
              "    <tr>\n",
              "      <th>148647</th>\n",
              "      <td>148648</td>\n",
              "      <td>Joann Anderson</td>\n",
              "      <td>Communications Dispatcher 2</td>\n",
              "      <td>0.00</td>\n",
              "      <td>0.00</td>\n",
              "      <td>0.00</td>\n",
              "      <td>0.00</td>\n",
              "      <td>0.00</td>\n",
              "      <td>0.00</td>\n",
              "      <td>2014</td>\n",
              "      <td>NaN</td>\n",
              "      <td>San Francisco</td>\n",
              "      <td>NaN</td>\n",
              "    </tr>\n",
              "    <tr>\n",
              "      <th>148648</th>\n",
              "      <td>148649</td>\n",
              "      <td>Leon Walker</td>\n",
              "      <td>Custodian</td>\n",
              "      <td>0.00</td>\n",
              "      <td>0.00</td>\n",
              "      <td>0.00</td>\n",
              "      <td>0.00</td>\n",
              "      <td>0.00</td>\n",
              "      <td>0.00</td>\n",
              "      <td>2014</td>\n",
              "      <td>NaN</td>\n",
              "      <td>San Francisco</td>\n",
              "      <td>NaN</td>\n",
              "    </tr>\n",
              "    <tr>\n",
              "      <th>148649</th>\n",
              "      <td>148650</td>\n",
              "      <td>Roy I Tillery</td>\n",
              "      <td>Custodian</td>\n",
              "      <td>0.00</td>\n",
              "      <td>0.00</td>\n",
              "      <td>0.00</td>\n",
              "      <td>0.00</td>\n",
              "      <td>0.00</td>\n",
              "      <td>0.00</td>\n",
              "      <td>2014</td>\n",
              "      <td>NaN</td>\n",
              "      <td>San Francisco</td>\n",
              "      <td>NaN</td>\n",
              "    </tr>\n",
              "    <tr>\n",
              "      <th>148650</th>\n",
              "      <td>148651</td>\n",
              "      <td>Not provided</td>\n",
              "      <td>Not provided</td>\n",
              "      <td>NaN</td>\n",
              "      <td>NaN</td>\n",
              "      <td>NaN</td>\n",
              "      <td>NaN</td>\n",
              "      <td>0.00</td>\n",
              "      <td>0.00</td>\n",
              "      <td>2014</td>\n",
              "      <td>NaN</td>\n",
              "      <td>San Francisco</td>\n",
              "      <td>NaN</td>\n",
              "    </tr>\n",
              "    <tr>\n",
              "      <th>148651</th>\n",
              "      <td>148652</td>\n",
              "      <td>Not provided</td>\n",
              "      <td>Not provided</td>\n",
              "      <td>NaN</td>\n",
              "      <td>NaN</td>\n",
              "      <td>NaN</td>\n",
              "      <td>NaN</td>\n",
              "      <td>0.00</td>\n",
              "      <td>0.00</td>\n",
              "      <td>2014</td>\n",
              "      <td>NaN</td>\n",
              "      <td>San Francisco</td>\n",
              "      <td>NaN</td>\n",
              "    </tr>\n",
              "    <tr>\n",
              "      <th>148652</th>\n",
              "      <td>148653</td>\n",
              "      <td>Not provided</td>\n",
              "      <td>Not provided</td>\n",
              "      <td>NaN</td>\n",
              "      <td>NaN</td>\n",
              "      <td>NaN</td>\n",
              "      <td>NaN</td>\n",
              "      <td>0.00</td>\n",
              "      <td>0.00</td>\n",
              "      <td>2014</td>\n",
              "      <td>NaN</td>\n",
              "      <td>San Francisco</td>\n",
              "      <td>NaN</td>\n",
              "    </tr>\n",
              "    <tr>\n",
              "      <th>148653</th>\n",
              "      <td>148654</td>\n",
              "      <td>Joe Lopez</td>\n",
              "      <td>Counselor, Log Cabin Ranch</td>\n",
              "      <td>0.00</td>\n",
              "      <td>0.00</td>\n",
              "      <td>-618.13</td>\n",
              "      <td>0.00</td>\n",
              "      <td>-618.13</td>\n",
              "      <td>-618.13</td>\n",
              "      <td>2014</td>\n",
              "      <td>NaN</td>\n",
              "      <td>San Francisco</td>\n",
              "      <td>NaN</td>\n",
              "    </tr>\n",
              "  </tbody>\n",
              "</table>\n",
              "<p>148654 rows × 13 columns</p>\n",
              "</div>"
            ],
            "text/plain": [
              "            Id            EmployeeName  ...         Agency  Status\n",
              "0            1          NATHANIEL FORD  ...  San Francisco     NaN\n",
              "1            2            GARY JIMENEZ  ...  San Francisco     NaN\n",
              "2            3          ALBERT PARDINI  ...  San Francisco     NaN\n",
              "3            4       CHRISTOPHER CHONG  ...  San Francisco     NaN\n",
              "4            5         PATRICK GARDNER  ...  San Francisco     NaN\n",
              "5            6          DAVID SULLIVAN  ...  San Francisco     NaN\n",
              "6            7               ALSON LEE  ...  San Francisco     NaN\n",
              "7            8           DAVID KUSHNER  ...  San Francisco     NaN\n",
              "8            9          MICHAEL MORRIS  ...  San Francisco     NaN\n",
              "9           10      JOANNE HAYES-WHITE  ...  San Francisco     NaN\n",
              "10          11           ARTHUR KENNEY  ...  San Francisco     NaN\n",
              "11          12        PATRICIA JACKSON  ...  San Francisco     NaN\n",
              "12          13       EDWARD HARRINGTON  ...  San Francisco     NaN\n",
              "13          14             JOHN MARTIN  ...  San Francisco     NaN\n",
              "14          15          DAVID FRANKLIN  ...  San Francisco     NaN\n",
              "15          16         RICHARD CORRIEA  ...  San Francisco     NaN\n",
              "16          17                AMY HART  ...  San Francisco     NaN\n",
              "17          18          SEBASTIAN WONG  ...  San Francisco     NaN\n",
              "18          19              MARTY ROSS  ...  San Francisco     NaN\n",
              "19          20           ELLEN MOFFATT  ...  San Francisco     NaN\n",
              "20          21              VENUS AZAR  ...  San Francisco     NaN\n",
              "21          22            JUDY MELINEK  ...  San Francisco     NaN\n",
              "22          23           GEORGE GARCIA  ...  San Francisco     NaN\n",
              "23          24           VICTOR WYRSCH  ...  San Francisco     NaN\n",
              "24          25         JOSEPH DRISCOLL  ...  San Francisco     NaN\n",
              "25          26            GREGORY SUHR  ...  San Francisco     NaN\n",
              "26          27             JOHN HANLEY  ...  San Francisco     NaN\n",
              "27          28          RAYMOND GUZMAN  ...  San Francisco     NaN\n",
              "28          29          DENISE SCHMITT  ...  San Francisco     NaN\n",
              "29          30           MONICA FIELDS  ...  San Francisco     NaN\n",
              "...        ...                     ...  ...            ...     ...\n",
              "148624  148625      Lorraine Rosenthal  ...  San Francisco     NaN\n",
              "148625  148626         Renato C Gurion  ...  San Francisco     NaN\n",
              "148626  148627           Paulet Gaines  ...  San Francisco     NaN\n",
              "148627  148628        Brett A Lundberg  ...  San Francisco     NaN\n",
              "148628  148629          Mark W Mcclure  ...  San Francisco     NaN\n",
              "148629  148630       Elizabeth Iniguez  ...  San Francisco     NaN\n",
              "148630  148631            Randy J Keys  ...  San Francisco     NaN\n",
              "148631  148632         Andre M Johnson  ...  San Francisco     NaN\n",
              "148632  148633  Sharon D Owens-Webster  ...  San Francisco     NaN\n",
              "148633  148634        Edward Ferdinand  ...  San Francisco     NaN\n",
              "148634  148635          David M Turner  ...  San Francisco     NaN\n",
              "148635  148636     James S Kibblewhite  ...  San Francisco     NaN\n",
              "148636  148637           Andrew J Enzi  ...  San Francisco     NaN\n",
              "148637  148638        Kadeshra D Green  ...  San Francisco     NaN\n",
              "148638  148639    Lennard B Hutchinson  ...  San Francisco     NaN\n",
              "148639  148640       Richard A Talbert  ...  San Francisco     NaN\n",
              "148640  148641      Charlene D Mccully  ...  San Francisco     NaN\n",
              "148641  148642   Raphael Marquis Goins  ...  San Francisco     NaN\n",
              "148642  148643       Dominic C Marquez  ...  San Francisco     NaN\n",
              "148643  148644              Kim Brewer  ...  San Francisco     NaN\n",
              "148644  148645            Randy D Winn  ...  San Francisco     NaN\n",
              "148645  148646        Carolyn A Wilson  ...  San Francisco     NaN\n",
              "148646  148647            Not provided  ...  San Francisco     NaN\n",
              "148647  148648          Joann Anderson  ...  San Francisco     NaN\n",
              "148648  148649             Leon Walker  ...  San Francisco     NaN\n",
              "148649  148650           Roy I Tillery  ...  San Francisco     NaN\n",
              "148650  148651            Not provided  ...  San Francisco     NaN\n",
              "148651  148652            Not provided  ...  San Francisco     NaN\n",
              "148652  148653            Not provided  ...  San Francisco     NaN\n",
              "148653  148654               Joe Lopez  ...  San Francisco     NaN\n",
              "\n",
              "[148654 rows x 13 columns]"
            ]
          },
          "metadata": {
            "tags": []
          },
          "execution_count": 5
        }
      ]
    },
    {
      "cell_type": "markdown",
      "metadata": {
        "id": "QW6hV4iv9nOM",
        "colab_type": "text"
      },
      "source": [
        "**Check the head of the DataFrame.**"
      ]
    },
    {
      "cell_type": "code",
      "metadata": {
        "id": "oa2JHHJ99nON",
        "colab_type": "code",
        "outputId": "7e464ea6-09ff-4bd3-f998-37c8fd7140e1",
        "colab": {
          "base_uri": "https://localhost:8080/",
          "height": 204
        }
      },
      "source": [
        "sal.head()"
      ],
      "execution_count": 6,
      "outputs": [
        {
          "output_type": "execute_result",
          "data": {
            "text/html": [
              "<div>\n",
              "<style scoped>\n",
              "    .dataframe tbody tr th:only-of-type {\n",
              "        vertical-align: middle;\n",
              "    }\n",
              "\n",
              "    .dataframe tbody tr th {\n",
              "        vertical-align: top;\n",
              "    }\n",
              "\n",
              "    .dataframe thead th {\n",
              "        text-align: right;\n",
              "    }\n",
              "</style>\n",
              "<table border=\"1\" class=\"dataframe\">\n",
              "  <thead>\n",
              "    <tr style=\"text-align: right;\">\n",
              "      <th></th>\n",
              "      <th>Id</th>\n",
              "      <th>EmployeeName</th>\n",
              "      <th>JobTitle</th>\n",
              "      <th>BasePay</th>\n",
              "      <th>OvertimePay</th>\n",
              "      <th>OtherPay</th>\n",
              "      <th>Benefits</th>\n",
              "      <th>TotalPay</th>\n",
              "      <th>TotalPayBenefits</th>\n",
              "      <th>Year</th>\n",
              "      <th>Notes</th>\n",
              "      <th>Agency</th>\n",
              "      <th>Status</th>\n",
              "    </tr>\n",
              "  </thead>\n",
              "  <tbody>\n",
              "    <tr>\n",
              "      <th>0</th>\n",
              "      <td>1</td>\n",
              "      <td>NATHANIEL FORD</td>\n",
              "      <td>GENERAL MANAGER-METROPOLITAN TRANSIT AUTHORITY</td>\n",
              "      <td>167411.18</td>\n",
              "      <td>0.00</td>\n",
              "      <td>400184.25</td>\n",
              "      <td>NaN</td>\n",
              "      <td>567595.43</td>\n",
              "      <td>567595.43</td>\n",
              "      <td>2011</td>\n",
              "      <td>NaN</td>\n",
              "      <td>San Francisco</td>\n",
              "      <td>NaN</td>\n",
              "    </tr>\n",
              "    <tr>\n",
              "      <th>1</th>\n",
              "      <td>2</td>\n",
              "      <td>GARY JIMENEZ</td>\n",
              "      <td>CAPTAIN III (POLICE DEPARTMENT)</td>\n",
              "      <td>155966.02</td>\n",
              "      <td>245131.88</td>\n",
              "      <td>137811.38</td>\n",
              "      <td>NaN</td>\n",
              "      <td>538909.28</td>\n",
              "      <td>538909.28</td>\n",
              "      <td>2011</td>\n",
              "      <td>NaN</td>\n",
              "      <td>San Francisco</td>\n",
              "      <td>NaN</td>\n",
              "    </tr>\n",
              "    <tr>\n",
              "      <th>2</th>\n",
              "      <td>3</td>\n",
              "      <td>ALBERT PARDINI</td>\n",
              "      <td>CAPTAIN III (POLICE DEPARTMENT)</td>\n",
              "      <td>212739.13</td>\n",
              "      <td>106088.18</td>\n",
              "      <td>16452.60</td>\n",
              "      <td>NaN</td>\n",
              "      <td>335279.91</td>\n",
              "      <td>335279.91</td>\n",
              "      <td>2011</td>\n",
              "      <td>NaN</td>\n",
              "      <td>San Francisco</td>\n",
              "      <td>NaN</td>\n",
              "    </tr>\n",
              "    <tr>\n",
              "      <th>3</th>\n",
              "      <td>4</td>\n",
              "      <td>CHRISTOPHER CHONG</td>\n",
              "      <td>WIRE ROPE CABLE MAINTENANCE MECHANIC</td>\n",
              "      <td>77916.00</td>\n",
              "      <td>56120.71</td>\n",
              "      <td>198306.90</td>\n",
              "      <td>NaN</td>\n",
              "      <td>332343.61</td>\n",
              "      <td>332343.61</td>\n",
              "      <td>2011</td>\n",
              "      <td>NaN</td>\n",
              "      <td>San Francisco</td>\n",
              "      <td>NaN</td>\n",
              "    </tr>\n",
              "    <tr>\n",
              "      <th>4</th>\n",
              "      <td>5</td>\n",
              "      <td>PATRICK GARDNER</td>\n",
              "      <td>DEPUTY CHIEF OF DEPARTMENT,(FIRE DEPARTMENT)</td>\n",
              "      <td>134401.60</td>\n",
              "      <td>9737.00</td>\n",
              "      <td>182234.59</td>\n",
              "      <td>NaN</td>\n",
              "      <td>326373.19</td>\n",
              "      <td>326373.19</td>\n",
              "      <td>2011</td>\n",
              "      <td>NaN</td>\n",
              "      <td>San Francisco</td>\n",
              "      <td>NaN</td>\n",
              "    </tr>\n",
              "  </tbody>\n",
              "</table>\n",
              "</div>"
            ],
            "text/plain": [
              "   Id       EmployeeName  ...         Agency  Status\n",
              "0   1     NATHANIEL FORD  ...  San Francisco     NaN\n",
              "1   2       GARY JIMENEZ  ...  San Francisco     NaN\n",
              "2   3     ALBERT PARDINI  ...  San Francisco     NaN\n",
              "3   4  CHRISTOPHER CHONG  ...  San Francisco     NaN\n",
              "4   5    PATRICK GARDNER  ...  San Francisco     NaN\n",
              "\n",
              "[5 rows x 13 columns]"
            ]
          },
          "metadata": {
            "tags": []
          },
          "execution_count": 6
        }
      ]
    },
    {
      "cell_type": "markdown",
      "metadata": {
        "id": "LgRIzJ_l9nOP",
        "colab_type": "text"
      },
      "source": [
        "**Use the .info() method to find out how many entries there are.**"
      ]
    },
    {
      "cell_type": "code",
      "metadata": {
        "id": "JuwgdTfz9nOP",
        "colab_type": "code",
        "outputId": "77458262-bc33-4be5-847a-8eefe22a7618",
        "colab": {
          "base_uri": "https://localhost:8080/",
          "height": 323
        }
      },
      "source": [
        "sal.info()"
      ],
      "execution_count": 7,
      "outputs": [
        {
          "output_type": "stream",
          "text": [
            "<class 'pandas.core.frame.DataFrame'>\n",
            "RangeIndex: 148654 entries, 0 to 148653\n",
            "Data columns (total 13 columns):\n",
            "Id                  148654 non-null int64\n",
            "EmployeeName        148654 non-null object\n",
            "JobTitle            148654 non-null object\n",
            "BasePay             148045 non-null float64\n",
            "OvertimePay         148650 non-null float64\n",
            "OtherPay            148650 non-null float64\n",
            "Benefits            112491 non-null float64\n",
            "TotalPay            148654 non-null float64\n",
            "TotalPayBenefits    148654 non-null float64\n",
            "Year                148654 non-null int64\n",
            "Notes               0 non-null float64\n",
            "Agency              148654 non-null object\n",
            "Status              0 non-null float64\n",
            "dtypes: float64(8), int64(2), object(3)\n",
            "memory usage: 14.7+ MB\n"
          ],
          "name": "stdout"
        }
      ]
    },
    {
      "cell_type": "markdown",
      "metadata": {
        "id": "RgO49aNW9nOR",
        "colab_type": "text"
      },
      "source": [
        "**What is the average BasePay ?**\n",
        "\n",
        "Keyword: [mean](https://pandas.pydata.org/pandas-docs/stable/generated/pandas.DataFrame.mean.html)"
      ]
    },
    {
      "cell_type": "code",
      "metadata": {
        "id": "twQu_3xj9nOS",
        "colab_type": "code",
        "outputId": "577b12f5-8756-402f-c425-5b774dbb7516",
        "colab": {
          "base_uri": "https://localhost:8080/",
          "height": 34
        }
      },
      "source": [
        "sal['BasePay'].mean()"
      ],
      "execution_count": 8,
      "outputs": [
        {
          "output_type": "execute_result",
          "data": {
            "text/plain": [
              "66325.44884050643"
            ]
          },
          "metadata": {
            "tags": []
          },
          "execution_count": 8
        }
      ]
    },
    {
      "cell_type": "markdown",
      "metadata": {
        "id": "qQc-OERD9nOU",
        "colab_type": "text"
      },
      "source": [
        "**What is the lowest and highest amount of BasePay?**\n",
        "\n",
        "Keyword: \n",
        "[min](https://pandas.pydata.org/pandas-docs/stable/generated/pandas.DataFrame.min.html) , \n",
        "[max](https://pandas.pydata.org/pandas-docs/stable/generated/pandas.DataFrame.max.html)"
      ]
    },
    {
      "cell_type": "code",
      "metadata": {
        "id": "22XKRdg49nOV",
        "colab_type": "code",
        "outputId": "f798f5db-50c6-4460-901e-a4ecdc3a964a",
        "colab": {
          "base_uri": "https://localhost:8080/",
          "height": 34
        }
      },
      "source": [
        "\n",
        "print(\"Max: {0}, Min: {1}\".format(sal['BasePay'].max(),sal['BasePay'].min()))"
      ],
      "execution_count": 9,
      "outputs": [
        {
          "output_type": "stream",
          "text": [
            "Max: 319275.01, Min: -166.01\n"
          ],
          "name": "stdout"
        }
      ]
    },
    {
      "cell_type": "code",
      "metadata": {
        "id": "R-yPM0ZU9nOX",
        "colab_type": "code",
        "colab": {}
      },
      "source": [
        ""
      ],
      "execution_count": 0,
      "outputs": []
    },
    {
      "cell_type": "markdown",
      "metadata": {
        "id": "-MdkKp6U9nOa",
        "colab_type": "text"
      },
      "source": [
        "**How about OvertimePay in the dataset? What is the average, lowest, highest amount?**"
      ]
    },
    {
      "cell_type": "code",
      "metadata": {
        "id": "Og2yxCil9nOb",
        "colab_type": "code",
        "outputId": "abe88ba4-dc14-401e-e6b9-3db0bf4c859a",
        "colab": {
          "base_uri": "https://localhost:8080/",
          "height": 34
        }
      },
      "source": [
        "\n",
        "print(\"Average: {0}, Max: {1}, Min: {2}\".format(sal['OvertimePay'].mean(),sal['OvertimePay'].max(),sal['OvertimePay'].min()))\n"
      ],
      "execution_count": 10,
      "outputs": [
        {
          "output_type": "stream",
          "text": [
            "Average: 5066.059886444622, Max: 245131.88, Min: -0.01\n"
          ],
          "name": "stdout"
        }
      ]
    },
    {
      "cell_type": "markdown",
      "metadata": {
        "id": "mF0zrXXh9nOf",
        "colab_type": "text"
      },
      "source": [
        "**What is the job title of  JOSEPH DRISCOLL ? Note: Use all caps, otherwise you may get an answer that doesn't match up (there is also a lowercase Joseph Driscoll).**"
      ]
    },
    {
      "cell_type": "code",
      "metadata": {
        "id": "wbqO05iu9nOh",
        "colab_type": "code",
        "outputId": "e51d7417-f003-4d5e-b19f-fe981b82b6ea",
        "colab": {
          "base_uri": "https://localhost:8080/",
          "height": 51
        }
      },
      "source": [
        "jobtitle = sal['JobTitle'][sal['EmployeeName'] == 'JOSEPH DRISCOLL']\n",
        "print(jobtitle)"
      ],
      "execution_count": 11,
      "outputs": [
        {
          "output_type": "stream",
          "text": [
            "24    CAPTAIN, FIRE SUPPRESSION\n",
            "Name: JobTitle, dtype: object\n"
          ],
          "name": "stdout"
        }
      ]
    },
    {
      "cell_type": "code",
      "metadata": {
        "id": "MwzxTlI29nOl",
        "colab_type": "code",
        "colab": {}
      },
      "source": [
        "# Now try to select Employees who have name \"GARY JIMENEZ\"\n",
        "# Your code here\n"
      ],
      "execution_count": 0,
      "outputs": []
    },
    {
      "cell_type": "markdown",
      "metadata": {
        "id": "0nrHI4iu9nOn",
        "colab_type": "text"
      },
      "source": [
        "**How much does JOSEPH DRISCOLL make (including benefits)?**"
      ]
    },
    {
      "cell_type": "code",
      "metadata": {
        "id": "TUZlBSDE9nOo",
        "colab_type": "code",
        "outputId": "9257a292-ff7c-4c4f-9ca2-fabdedc22d4e",
        "colab": {
          "base_uri": "https://localhost:8080/",
          "height": 51
        }
      },
      "source": [
        "total = sal['TotalPay'][sal['EmployeeName'] == 'JOSEPH DRISCOLL'] + sal['TotalPayBenefits'][sal['EmployeeName'] == 'JOSEPH DRISCOLL']\n",
        "total"
      ],
      "execution_count": 12,
      "outputs": [
        {
          "output_type": "execute_result",
          "data": {
            "text/plain": [
              "24    540649.82\n",
              "dtype: float64"
            ]
          },
          "metadata": {
            "tags": []
          },
          "execution_count": 12
        }
      ]
    },
    {
      "cell_type": "markdown",
      "metadata": {
        "id": "1thjd2GC9nOq",
        "colab_type": "text"
      },
      "source": [
        "**What is the name of highest paid person (including benefits)?**"
      ]
    },
    {
      "cell_type": "code",
      "metadata": {
        "id": "msrq-7Ww9nOr",
        "colab_type": "code",
        "outputId": "15e276dc-88b1-4a29-e619-cb9f0b4271c9",
        "colab": {
          "base_uri": "https://localhost:8080/",
          "height": 68
        }
      },
      "source": [
        "sal['TotalAll'] = sal['TotalPay'] + sal['TotalPayBenefits']\n",
        "#maxtotal = sal['TotalAll'].max()\n",
        "#sal[['EmployeeName','TotalAll']][sal['TotalAll'] == maxtotal ]\n",
        "sal[['EmployeeName','TotalAll']].loc[sal['TotalAll'].idxmax()]"
      ],
      "execution_count": 13,
      "outputs": [
        {
          "output_type": "execute_result",
          "data": {
            "text/plain": [
              "EmployeeName    NATHANIEL FORD\n",
              "TotalAll           1.13519e+06\n",
              "Name: 0, dtype: object"
            ]
          },
          "metadata": {
            "tags": []
          },
          "execution_count": 13
        }
      ]
    },
    {
      "cell_type": "markdown",
      "metadata": {
        "id": "uF2kX93x9nOu",
        "colab_type": "text"
      },
      "source": [
        "**What is the name of lowest paid person (including benefits)? Do you notice something strange about how much he or she is paid?**"
      ]
    },
    {
      "cell_type": "code",
      "metadata": {
        "id": "htAfatTl9nOv",
        "colab_type": "code",
        "outputId": "8d4b0cb8-69d7-4ecc-c1e5-2a9259619ea0",
        "colab": {
          "base_uri": "https://localhost:8080/",
          "height": 68
        }
      },
      "source": [
        "mintotal = sal['TotalAll'].min()\n",
        "#sal[['EmployeeName','TotalAll']][sal['TotalAll'] == mintotal ]\n",
        "sal[['EmployeeName','TotalAll']].loc[sal['TotalAll'].idxmin()]"
      ],
      "execution_count": 14,
      "outputs": [
        {
          "output_type": "execute_result",
          "data": {
            "text/plain": [
              "EmployeeName    Joe Lopez\n",
              "TotalAll         -1236.26\n",
              "Name: 148653, dtype: object"
            ]
          },
          "metadata": {
            "tags": []
          },
          "execution_count": 14
        }
      ]
    },
    {
      "cell_type": "markdown",
      "metadata": {
        "id": "WB0HTvjM9nOx",
        "colab_type": "text"
      },
      "source": [
        "**What was the average (mean) BasePay of all employees per year? (2011-2014) ?**\n",
        "Keyword: _groupby_"
      ]
    },
    {
      "cell_type": "code",
      "metadata": {
        "id": "6Y5mUYir9nOy",
        "colab_type": "code",
        "outputId": "1d2dff7b-9e76-4b8b-950e-0fdc9616ef10",
        "colab": {
          "base_uri": "https://localhost:8080/",
          "height": 119
        }
      },
      "source": [
        "sal.groupby('Year').mean()['BasePay']"
      ],
      "execution_count": 15,
      "outputs": [
        {
          "output_type": "execute_result",
          "data": {
            "text/plain": [
              "Year\n",
              "2011    63595.956517\n",
              "2012    65436.406857\n",
              "2013    69630.030216\n",
              "2014    66564.421924\n",
              "Name: BasePay, dtype: float64"
            ]
          },
          "metadata": {
            "tags": []
          },
          "execution_count": 15
        }
      ]
    },
    {
      "cell_type": "markdown",
      "metadata": {
        "id": "k8Qzx9MD9nO0",
        "colab_type": "text"
      },
      "source": [
        "**How many unique job titles are there?**\n",
        "\n",
        "Keyword: _unique, nunique_"
      ]
    },
    {
      "cell_type": "code",
      "metadata": {
        "id": "mvzwZ5Mb9nO1",
        "colab_type": "code",
        "outputId": "b865069a-af31-4211-ab76-837ae9da63f6",
        "colab": {
          "base_uri": "https://localhost:8080/",
          "height": 34
        }
      },
      "source": [
        "sal['JobTitle'].nunique()"
      ],
      "execution_count": 16,
      "outputs": [
        {
          "output_type": "execute_result",
          "data": {
            "text/plain": [
              "2159"
            ]
          },
          "metadata": {
            "tags": []
          },
          "execution_count": 16
        }
      ]
    },
    {
      "cell_type": "markdown",
      "metadata": {
        "id": "0dkyZe-39nO4",
        "colab_type": "text"
      },
      "source": [
        "**What are the top 5 most common jobs?**\n",
        "\n",
        "Keyword: *value_counts*"
      ]
    },
    {
      "cell_type": "code",
      "metadata": {
        "id": "PVSDr3Ww9nO7",
        "colab_type": "code",
        "outputId": "eb72fcbb-0661-4eaf-f35d-c030dda2d1b9",
        "colab": {
          "base_uri": "https://localhost:8080/",
          "height": 119
        }
      },
      "source": [
        "sal['JobTitle'].value_counts().head(5)"
      ],
      "execution_count": 17,
      "outputs": [
        {
          "output_type": "execute_result",
          "data": {
            "text/plain": [
              "Transit Operator                7036\n",
              "Special Nurse                   4389\n",
              "Registered Nurse                3736\n",
              "Public Svc Aide-Public Works    2518\n",
              "Police Officer 3                2421\n",
              "Name: JobTitle, dtype: int64"
            ]
          },
          "metadata": {
            "tags": []
          },
          "execution_count": 17
        }
      ]
    },
    {
      "cell_type": "markdown",
      "metadata": {
        "id": "25fCX21U9nO-",
        "colab_type": "text"
      },
      "source": [
        "**How many Job Titles were represented by only one person in 2013? (e.g. Job Titles with only one occurence in 2013?)**"
      ]
    },
    {
      "cell_type": "code",
      "metadata": {
        "id": "e9vr6BKD9nPA",
        "colab_type": "code",
        "outputId": "485c2bbc-4f8c-4772-e2cd-b8c6cb674ce0",
        "colab": {
          "base_uri": "https://localhost:8080/",
          "height": 34
        }
      },
      "source": [
        "sum(sal[sal['Year']==2013]['JobTitle'].value_counts()==1)"
      ],
      "execution_count": 18,
      "outputs": [
        {
          "output_type": "execute_result",
          "data": {
            "text/plain": [
              "202"
            ]
          },
          "metadata": {
            "tags": []
          },
          "execution_count": 18
        }
      ]
    },
    {
      "cell_type": "markdown",
      "metadata": {
        "id": "HoiNghja9nPD",
        "colab_type": "text"
      },
      "source": [
        "**How many people have the word Chief in their job title?**"
      ]
    },
    {
      "cell_type": "code",
      "metadata": {
        "id": "u40e_Ua89nPF",
        "colab_type": "code",
        "colab": {}
      },
      "source": [
        "\n",
        "def chief_string(title):\n",
        "    if 'chief' in title.lower().split():\n",
        "        return True\n",
        "    else:\n",
        "        return False"
      ],
      "execution_count": 0,
      "outputs": []
    },
    {
      "cell_type": "code",
      "metadata": {
        "id": "SA7QNzVq9nPI",
        "colab_type": "code",
        "outputId": "d604075c-87af-4940-940d-b4f2357c421a",
        "colab": {
          "base_uri": "https://localhost:8080/",
          "height": 34
        }
      },
      "source": [
        "Amap = sum(sal['JobTitle'].map(lambda x:chief_string(x)))\n",
        "Bapply = sum(sal['JobTitle'].apply(lambda x:chief_string(x)))\n",
        "\n",
        "print('Map: {0} - Apply: {1}'.format(Amap,Bapply))\n",
        "\n",
        "#Difference between map, apply methods in Pandas"
      ],
      "execution_count": 20,
      "outputs": [
        {
          "output_type": "stream",
          "text": [
            "Map: 477 - Apply: 477\n"
          ],
          "name": "stdout"
        }
      ]
    },
    {
      "cell_type": "markdown",
      "metadata": {
        "id": "5G094gws9nPL",
        "colab_type": "text"
      },
      "source": [
        "## Data Visualization\n",
        "\n",
        "**Implement seaborn's countplot with x='Year'**"
      ]
    },
    {
      "cell_type": "code",
      "metadata": {
        "id": "56GKG4UD9nPM",
        "colab_type": "code",
        "outputId": "3140976a-1eaf-4930-c406-6d30f1e56640",
        "colab": {
          "base_uri": "https://localhost:8080/",
          "height": 300
        }
      },
      "source": [
        "sns.countplot(x='Year', data=sal)"
      ],
      "execution_count": 21,
      "outputs": [
        {
          "output_type": "execute_result",
          "data": {
            "text/plain": [
              "<matplotlib.axes._subplots.AxesSubplot at 0x7fd58bfb8128>"
            ]
          },
          "metadata": {
            "tags": []
          },
          "execution_count": 21
        },
        {
          "output_type": "display_data",
          "data": {
            "image/png": "[encoded data removed]",
            "text/plain": [
              "<Figure size 432x288 with 1 Axes>"
            ]
          },
          "metadata": {
            "tags": []
          }
        }
      ]
    },
    {
      "cell_type": "markdown",
      "metadata": {
        "id": "orQACfVP9nPP",
        "colab_type": "text"
      },
      "source": [
        "**Implement seaborn's distplot for BasePay of Year 2011**"
      ]
    },
    {
      "cell_type": "code",
      "metadata": {
        "id": "JYPrrLW19nPQ",
        "colab_type": "code",
        "outputId": "f9862061-bf45-4c02-da9a-158f5c3bf434",
        "colab": {
          "base_uri": "https://localhost:8080/",
          "height": 300
        }
      },
      "source": [
        "sa = sal['BasePay'][sal['Year']==2011]\n",
        "sns.distplot(sa)"
      ],
      "execution_count": 22,
      "outputs": [
        {
          "output_type": "execute_result",
          "data": {
            "text/plain": [
              "<matplotlib.axes._subplots.AxesSubplot at 0x7fd5886cc9b0>"
            ]
          },
          "metadata": {
            "tags": []
          },
          "execution_count": 22
        },
        {
          "output_type": "display_data",
          "data": {
            "image/png": "[encoded data removed]",
            "text/plain": [
              "<Figure size 432x288 with 1 Axes>"
            ]
          },
          "metadata": {
            "tags": []
          }
        }
      ]
    },
    {
      "cell_type": "markdown",
      "metadata": {
        "id": "Ea9OFiqK9nPS",
        "colab_type": "text"
      },
      "source": [
        "**How about other Year**"
      ]
    },
    {
      "cell_type": "code",
      "metadata": {
        "id": "orRMn0X89nPT",
        "colab_type": "code",
        "outputId": "a8800416-a801-4a0c-ce2f-cfb6452c7172",
        "colab": {
          "base_uri": "https://localhost:8080/",
          "height": 286
        }
      },
      "source": [
        "sn = sal[['BasePay']][ np.isnan(sal['BasePay'])  != True ]\n",
        "sn\n",
        "sns.distplot(sn)"
      ],
      "execution_count": 23,
      "outputs": [
        {
          "output_type": "execute_result",
          "data": {
            "text/plain": [
              "<matplotlib.axes._subplots.AxesSubplot at 0x7fd58af2f128>"
            ]
          },
          "metadata": {
            "tags": []
          },
          "execution_count": 23
        },
        {
          "output_type": "display_data",
          "data": {
            "image/png": "[encoded data removed]",
            "text/plain": [
              "<Figure size 432x288 with 1 Axes>"
            ]
          },
          "metadata": {
            "tags": []
          }
        }
      ]
    },
    {
      "cell_type": "markdown",
      "metadata": {
        "id": "00EkkG_s9nPV",
        "colab_type": "text"
      },
      "source": [
        "## Bonus\n",
        "\n",
        "**Visualize top 5 Jobs with BasePay, Benefits and OvertimePay**\n",
        "\n",
        "Keyword: *index, isin, groupby, mean, plot*"
      ]
    },
    {
      "cell_type": "code",
      "metadata": {
        "id": "LoZm87Bu9nPV",
        "colab_type": "code",
        "outputId": "02aacec9-4553-4ccf-8447-61ed575882d2",
        "colab": {
          "base_uri": "https://localhost:8080/",
          "height": 714
        }
      },
      "source": [
        "sl =sal.groupby(['JobTitle']).size().reset_index(name='counts')\n",
        "sl1 = sl.sort_values(by='counts', ascending=False).head(5)\n",
        "grouped = sl1.sort_values(by='counts', ascending=True)\n",
        "grouped = grouped.drop(columns=\"counts\")\n",
        "grouped['BasePay'] = 0\n",
        "grouped['Benefits'] = 0\n",
        "grouped['OvertimePay'] = 0\n",
        "for index, row in grouped.iterrows():\n",
        "  res = sal[['JobTitle','BasePay','Benefits','OvertimePay']][sal['JobTitle'] == row['JobTitle']].mean()\n",
        "  grouped['BasePay'][grouped['JobTitle'] ==  row['JobTitle']]= res['BasePay']\n",
        "  grouped['Benefits'][grouped['JobTitle'] ==  row['JobTitle']] = res['Benefits']\n",
        "  grouped['OvertimePay'][grouped['JobTitle']== row['JobTitle']] = res['OvertimePay']\n",
        "  \n",
        "grouped"
      ],
      "execution_count": 237,
      "outputs": [
        {
          "output_type": "stream",
          "text": [
            "/usr/local/lib/python3.6/dist-packages/ipykernel_launcher.py:14: SettingWithCopyWarning: \n",
            "A value is trying to be set on a copy of a slice from a DataFrame\n",
            "\n",
            "See the caveats in the documentation: http://pandas.pydata.org/pandas-docs/stable/indexing.html#indexing-view-versus-copy\n",
            "  \n",
            "/usr/local/lib/python3.6/dist-packages/ipykernel_launcher.py:15: SettingWithCopyWarning: \n",
            "A value is trying to be set on a copy of a slice from a DataFrame\n",
            "\n",
            "See the caveats in the documentation: http://pandas.pydata.org/pandas-docs/stable/indexing.html#indexing-view-versus-copy\n",
            "  from ipykernel import kernelapp as app\n",
            "/usr/local/lib/python3.6/dist-packages/ipykernel_launcher.py:16: SettingWithCopyWarning: \n",
            "A value is trying to be set on a copy of a slice from a DataFrame\n",
            "\n",
            "See the caveats in the documentation: http://pandas.pydata.org/pandas-docs/stable/indexing.html#indexing-view-versus-copy\n",
            "  app.launch_new_instance()\n",
            "/usr/local/lib/python3.6/dist-packages/ipykernel_launcher.py:14: SettingWithCopyWarning: \n",
            "A value is trying to be set on a copy of a slice from a DataFrame\n",
            "\n",
            "See the caveats in the documentation: http://pandas.pydata.org/pandas-docs/stable/indexing.html#indexing-view-versus-copy\n",
            "  \n",
            "/usr/local/lib/python3.6/dist-packages/ipykernel_launcher.py:15: SettingWithCopyWarning: \n",
            "A value is trying to be set on a copy of a slice from a DataFrame\n",
            "\n",
            "See the caveats in the documentation: http://pandas.pydata.org/pandas-docs/stable/indexing.html#indexing-view-versus-copy\n",
            "  from ipykernel import kernelapp as app\n",
            "/usr/local/lib/python3.6/dist-packages/ipykernel_launcher.py:16: SettingWithCopyWarning: \n",
            "A value is trying to be set on a copy of a slice from a DataFrame\n",
            "\n",
            "See the caveats in the documentation: http://pandas.pydata.org/pandas-docs/stable/indexing.html#indexing-view-versus-copy\n",
            "  app.launch_new_instance()\n"
          ],
          "name": "stderr"
        },
        {
          "output_type": "execute_result",
          "data": {
            "text/html": [
              "<div>\n",
              "<style scoped>\n",
              "    .dataframe tbody tr th:only-of-type {\n",
              "        vertical-align: middle;\n",
              "    }\n",
              "\n",
              "    .dataframe tbody tr th {\n",
              "        vertical-align: top;\n",
              "    }\n",
              "\n",
              "    .dataframe thead th {\n",
              "        text-align: right;\n",
              "    }\n",
              "</style>\n",
              "<table border=\"1\" class=\"dataframe\">\n",
              "  <thead>\n",
              "    <tr style=\"text-align: right;\">\n",
              "      <th></th>\n",
              "      <th>JobTitle</th>\n",
              "      <th>BasePay</th>\n",
              "      <th>Benefits</th>\n",
              "      <th>OvertimePay</th>\n",
              "    </tr>\n",
              "  </thead>\n",
              "  <tbody>\n",
              "    <tr>\n",
              "      <th>1482</th>\n",
              "      <td>Police Officer 3</td>\n",
              "      <td>108508.662621</td>\n",
              "      <td>32829.713693</td>\n",
              "      <td>16418.062615</td>\n",
              "    </tr>\n",
              "    <tr>\n",
              "      <th>1544</th>\n",
              "      <td>Public Svc Aide-Public Works</td>\n",
              "      <td>8091.876070</td>\n",
              "      <td>1379.748050</td>\n",
              "      <td>60.017744</td>\n",
              "    </tr>\n",
              "    <tr>\n",
              "      <th>1577</th>\n",
              "      <td>Registered Nurse</td>\n",
              "      <td>102650.396486</td>\n",
              "      <td>35950.834170</td>\n",
              "      <td>4204.840575</td>\n",
              "    </tr>\n",
              "    <tr>\n",
              "      <th>1902</th>\n",
              "      <td>Special Nurse</td>\n",
              "      <td>29929.166718</td>\n",
              "      <td>3210.342240</td>\n",
              "      <td>651.723372</td>\n",
              "    </tr>\n",
              "    <tr>\n",
              "      <th>2056</th>\n",
              "      <td>Transit Operator</td>\n",
              "      <td>51772.154465</td>\n",
              "      <td>27355.597533</td>\n",
              "      <td>11143.260866</td>\n",
              "    </tr>\n",
              "  </tbody>\n",
              "</table>\n",
              "</div>"
            ],
            "text/plain": [
              "                          JobTitle        BasePay      Benefits   OvertimePay\n",
              "1482              Police Officer 3  108508.662621  32829.713693  16418.062615\n",
              "1544  Public Svc Aide-Public Works    8091.876070   1379.748050     60.017744\n",
              "1577              Registered Nurse  102650.396486  35950.834170   4204.840575\n",
              "1902                 Special Nurse   29929.166718   3210.342240    651.723372\n",
              "2056              Transit Operator   51772.154465  27355.597533  11143.260866"
            ]
          },
          "metadata": {
            "tags": []
          },
          "execution_count": 237
        }
      ]
    },
    {
      "cell_type": "code",
      "metadata": {
        "id": "C-nKGOA-9nPY",
        "colab_type": "code",
        "outputId": "d1ea4310-d253-42cc-8b61-098447a14a61",
        "colab": {
          "base_uri": "https://localhost:8080/",
          "height": 369
        }
      },
      "source": [
        "fig, ((axis1, axis2),(axis3,axis4)) = plt.subplots(2,2,figsize =(20,5))\n",
        "sns.barplot(x=\"BasePay\", y=\"JobTitle\",data = grouped, ax = axis1)\n",
        "sns.barplot(x=\"Benefits\", y=\"JobTitle\",data = grouped, ax = axis2)\n",
        "sns.barplot(x=\"OvertimePay\", y=\"JobTitle\",data = grouped, ax = axis3)\n",
        "fig.tight_layout()\n",
        "\n"
      ],
      "execution_count": 249,
      "outputs": [
        {
          "output_type": "display_data",
          "data": {
            "image/png": "[encoded data removed]",
            "text/plain": [
              "<Figure size 1440x360 with 4 Axes>"
            ]
          },
          "metadata": {
            "tags": []
          }
        }
      ]
    },
    {
      "cell_type": "markdown",
      "metadata": {
        "id": "V2Lz3SGu9nPc",
        "colab_type": "text"
      },
      "source": [
        "**Fun Fact: Is there a correlation between length of the Job Title string and Salary?**\n",
        "\n",
        "*Hint: corr()*"
      ]
    },
    {
      "cell_type": "code",
      "metadata": {
        "id": "CgcrtPdJ9nPd",
        "colab_type": "code",
        "colab": {}
      },
      "source": [
        "sal['Title Length'] = sal['JobTitle'].apply(len)"
      ],
      "execution_count": 0,
      "outputs": []
    },
    {
      "cell_type": "code",
      "metadata": {
        "id": "G8SQ0NhI9nPe",
        "colab_type": "code",
        "outputId": "1e006aef-b264-4755-ff8a-7424578c9143",
        "colab": {
          "base_uri": "https://localhost:8080/",
          "height": 111
        }
      },
      "source": [
        "sal[['TotalPayBenefits', 'Title Length']].corr()"
      ],
      "execution_count": 26,
      "outputs": [
        {
          "output_type": "execute_result",
          "data": {
            "text/html": [
              "<div>\n",
              "<style scoped>\n",
              "    .dataframe tbody tr th:only-of-type {\n",
              "        vertical-align: middle;\n",
              "    }\n",
              "\n",
              "    .dataframe tbody tr th {\n",
              "        vertical-align: top;\n",
              "    }\n",
              "\n",
              "    .dataframe thead th {\n",
              "        text-align: right;\n",
              "    }\n",
              "</style>\n",
              "<table border=\"1\" class=\"dataframe\">\n",
              "  <thead>\n",
              "    <tr style=\"text-align: right;\">\n",
              "      <th></th>\n",
              "      <th>TotalPayBenefits</th>\n",
              "      <th>Title Length</th>\n",
              "    </tr>\n",
              "  </thead>\n",
              "  <tbody>\n",
              "    <tr>\n",
              "      <th>TotalPayBenefits</th>\n",
              "      <td>1.000000</td>\n",
              "      <td>-0.036878</td>\n",
              "    </tr>\n",
              "    <tr>\n",
              "      <th>Title Length</th>\n",
              "      <td>-0.036878</td>\n",
              "      <td>1.000000</td>\n",
              "    </tr>\n",
              "  </tbody>\n",
              "</table>\n",
              "</div>"
            ],
            "text/plain": [
              "                  TotalPayBenefits  Title Length\n",
              "TotalPayBenefits          1.000000     -0.036878\n",
              "Title Length             -0.036878      1.000000"
            ]
          },
          "metadata": {
            "tags": []
          },
          "execution_count": 26
        }
      ]
    },
    {
      "cell_type": "markdown",
      "metadata": {
        "id": "gY4kMupD9nPg",
        "colab_type": "text"
      },
      "source": [
        "# Great Job!"
      ]
    }
  ]
}